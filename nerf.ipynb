{
  "cells": [
    {
      "cell_type": "markdown",
      "metadata": {},
      "source": [
        "[![Open in Colab](https://colab.research.google.com/assets/colab-badge.svg)](https://github.com/alaa-khamis/looping-gifs-nerf/blob/main/nerf.ipynb)"
      ]
    },
    {
      "cell_type": "code",
      "execution_count": null,
      "metadata": {
        "id": "D49ghQcVSqg6"
      },
      "outputs": [
        {
          "ename": "",
          "evalue": "",
          "output_type": "error",
          "traceback": [
            "\u001b[1;31mRunning cells with 'c:\\Users\\alaak\\AppData\\Local\\Programs\\Python\\Python311\\python.exe' requires the ipykernel package.\n",
            "\u001b[1;31mRun the following command to install 'ipykernel' into the Python environment. \n",
            "\u001b[1;31mCommand: 'c:/Users/alaak/AppData/Local/Programs/Python/Python311/python.exe -m pip install ipykernel -U --user --force-reinstall'"
          ]
        }
      ],
      "source": [
        "%cd /content/\n",
        "!pip install --upgrade pip\n",
        "!pip install torch==2.0.1+cu118 torchvision==0.15.2+cu118 --extra-index-url https://download.pytorch.org/whl/cu118\n",
        "\n",
        "# Installing TinyCuda\n",
        "%cd /content/\n",
        "!gdown \"https://drive.google.com/u/1/uc?id=1-7x7qQfB7bIw2zV4Lr6-yhvMpjXC84Q5&confirm=t\"\n",
        "!pip install tinycudann-1.7-cp310-cp310-linux_x86_64.whl\n",
        "\n",
        "# Install nerfstudio\n",
        "%cd /content/\n",
        "!pip install git+https://github.com/nerfstudio-project/nerfstudio.git\n",
        "\n",
        "!git clone https://github.com/alaa-khamis/looping-gifs-nerf.git"
      ]
    },
    {
      "cell_type": "code",
      "execution_count": null,
      "metadata": {
        "colab": {
          "base_uri": "https://localhost:8080/"
        },
        "id": "tXkrvC5XTucU",
        "outputId": "4a2855bc-1a77-4f07-d471-ccf5c4e25c80"
      },
      "outputs": [
        {
          "name": "stdout",
          "output_type": "stream",
          "text": [
            "Mounted at /content/drive\n"
          ]
        }
      ],
      "source": [
        "#Load Data\n",
        "from google.colab import drive\n",
        "\n",
        "# Mount Google Drive\n",
        "drive.mount('/content/drive')\n",
        "\n",
        "scene = 'myvid'"
      ]
    },
    {
      "cell_type": "code",
      "execution_count": null,
      "metadata": {},
      "outputs": [],
      "source": [
        "import os\n",
        "from google.colab import files\n",
        "from IPython.core.display import display, HTML\n",
        "\n",
        "scene = '\\uD83D\\uDDBC poster' #@param ['📤 upload your images' , '🎥 upload your own video']\n",
        "scene = ' '.join(scene.split(' ')[1:])\n",
        "\n",
        "display(HTML('Select your custom data'))\n",
        "display(HTML('You can select multiple images by pressing ctrl, cmd or shift and click.'))\n",
        "display(HTML('Note: This may take time, especially on higher resolution inputs, so we recommend to download dataset after creation.'))\n",
        "!mkdir -p /content/data/nerfstudio/custom_data\n",
        "\n",
        "if scene == 'upload your images':\n",
        "    !mkdir -p /content/data/images\n",
        "    %cd /content/data/images\n",
        "    uploaded = files.upload()\n",
        "    dir = os.getcwd()\n",
        "else:\n",
        "    %cd /content/data/video\n",
        "    uploaded = files.upload()\n",
        "    dir = os.getcwd()\n",
        "\n",
        "preupload_datasets = [os.path.join(dir, f) for f in uploaded.keys()]\n",
        "del uploaded\n",
        "\n",
        "%cd /content/data/\n",
        "\n",
        "if scene == 'upload your images':\n",
        "    !python colmap2nerf.py --colmap_matcher exhaustive --run_colmap --aabb_scale 32 \n",
        "else:\n",
        "    video_path = preupload_datasets[0]\n",
        "    !python colmap2nerf.py --video_in $video_path --video_fps 2 --run_colmap --aabb_scale 16\n",
        "\n",
        "scene = \"custom_data\""
      ]
    },
    {
      "cell_type": "code",
      "execution_count": null,
      "metadata": {
        "id": "5Y13cOeZTP0S"
      },
      "outputs": [],
      "source": [
        "\n",
        "%cd /content\n",
        "\n",
        "# Install localtunnel\n",
        "# We are using localtunnel https://github.com/localtunnel/localtunnel but ngrok could also be used\n",
        "!npm install -g localtunnel\n",
        "\n",
        "# Tunnel port 7007, the default for\n",
        "!rm url.txt 2> /dev/null\n",
        "get_ipython().system_raw('lt --port 7007 >> url.txt 2>&1 &')\n",
        "\n",
        "import time\n",
        "time.sleep(3) # the previous command needs time to write to url.txt\n",
        "\n",
        "\n",
        "with open('url.txt') as f:\n",
        "  lines = f.readlines()\n",
        "websocket_url = lines[0].split(\": \")[1].strip().replace(\"https\", \"wss\")\n",
        "# from nerfstudio.utils.io import load_from_json\n",
        "# from pathlib import Path\n",
        "# json_filename = \"nerfstudio/nerfstudio/viewer/app/package.json\"\n",
        "# version = load_from_json(Path(json_filename))[\"version\"]\n",
        "url = f\"https://viewer.nerf.studio/?websocket_url={websocket_url}\"\n",
        "print(url)\n",
        "print(\"You may need to click Refresh Page after you start training!\")\n",
        "from IPython import display\n",
        "display.IFrame(src=url, height=800, width=\"100%\")"
      ]
    },
    {
      "cell_type": "code",
      "execution_count": null,
      "metadata": {
        "id": "Lf54QDrZTWKC"
      },
      "outputs": [],
      "source": [
        "import os\n",
        "\n",
        "%cd /content\n",
        "if os.path.exists(f\"drive/MyDrive/{scene}/transforms.json\"):\n",
        "    !ns-train nerfacto --viewer.websocket-port 7007 nerfstudio-data --data drive/MyDrive/$scene\n",
        "else:\n",
        "    from IPython.core.display import display, HTML\n",
        "    display(HTML('Error: Data processing did not complete'))\n",
        "    display(HTML('Please re-run `Downloading and Processing Data`, or view the FAQ for more info.'))"
      ]
    },
    {
      "cell_type": "code",
      "execution_count": null,
      "metadata": {
        "id": "tm8xJwnSdx5e"
      },
      "outputs": [],
      "source": [
        "%cd /content/\n",
        "!ns-render camera-path --load-config drive/MyDrive/nerfacto/2023-07-22_190553/config.yml --camera-path-filename drive/MyDrive/nerfacto/2023-07-22_190553/camera_paths/camera_path.json --output-path renders/output.mp4"
      ]
    }
  ],
  "metadata": {
    "accelerator": "GPU",
    "colab": {
      "gpuType": "T4",
      "provenance": []
    },
    "kernelspec": {
      "display_name": "Python 3",
      "name": "python3"
    },
    "language_info": {
      "name": "python",
      "version": "3.11.4"
    }
  },
  "nbformat": 4,
  "nbformat_minor": 0
}
